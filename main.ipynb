{
 "cells": [
  {
   "metadata": {},
   "cell_type": "markdown",
   "source": [
    "# Automatizarea intocmirii fisei pacientului\n",
    "\n",
    "### Scop\n",
    "\n",
    "Dezvoltarea unui sistem inteligent care să ajute medicii pentru a completa in mod automat fisa pacientului.\n",
    "\n",
    "### Ideea de baza\n",
    "\n",
    "Munca medicilor este plina de provocari. Mai ales cand trebuie sa faca multe task-uri, uneori simultan, precum realizarea si citirea unei ecografii si inregistrarea observatiilor facute. De aceea este nevoie de un sistem inteligent care sa transforme informatia audio inregistrata de catre un medic in format text si sa completeze in mod automat rubricile dedicate din fisa pacientului. Se va pleca de la inregistrari audio, se vor converti in format text si se va compelta automat partea evidentiata cu galben din fisa pacientului (informatiile respective se vor salva intr-un tabel/jason si apoi se vor exporta intr-un document word)"
   ],
   "id": "8ecca05573ce9e71"
  },
  {
   "cell_type": "code",
   "id": "initial_id",
   "metadata": {
    "collapsed": true,
    "ExecuteTime": {
     "end_time": "2025-10-15T14:35:58.415053Z",
     "start_time": "2025-10-15T14:35:58.274553Z"
    }
   },
   "source": [
    "from fastapi import FastAPI, File, UploadFile\n",
    "from fastapi.responses import JSONResponse\n",
    "import shutil\n",
    "import os"
   ],
   "outputs": [],
   "execution_count": 2
  },
  {
   "metadata": {
    "ExecuteTime": {
     "end_time": "2025-10-15T14:36:11.314905Z",
     "start_time": "2025-10-15T14:36:11.312362Z"
    }
   },
   "cell_type": "code",
   "source": [
    "app = FastAPI()\n",
    "UPLOAD_FOLDER = \"uploads\"\n",
    "os.makedirs(UPLOAD_FOLDER, exist_ok=True)"
   ],
   "id": "d6ccd61b40e90d18",
   "outputs": [],
   "execution_count": 3
  },
  {
   "metadata": {
    "ExecuteTime": {
     "end_time": "2025-10-15T14:39:06.622132Z",
     "start_time": "2025-10-15T14:39:06.613340Z"
    }
   },
   "cell_type": "code",
   "source": [
    "@app.post(\"/upload-audio/\")\n",
    "async def upload_audio(file: UploadFile = File(...)):\n",
    "    file_path = os.path.join(UPLOAD_FOLDER, file.filename)\n",
    "    with open(file_path, \"wb\") as buffer:\n",
    "        content = await file.read()\n",
    "        buffer.write(content)\n",
    "    file_size = len(content)\n",
    "    response = 'TestTest'\n",
    "    # response = algoritm_ML_Revolutionar(content)\n",
    "    return JSONResponse({\n",
    "        \"filename\": file.filename,\n",
    "        \"size_bytes\": file_size,\n",
    "        \"message\": response\n",
    "    })"
   ],
   "id": "165cedcc2a5cf024",
   "outputs": [],
   "execution_count": 5
  }
 ],
 "metadata": {
  "kernelspec": {
   "display_name": "Python 3",
   "language": "python",
   "name": "python3"
  },
  "language_info": {
   "codemirror_mode": {
    "name": "ipython",
    "version": 2
   },
   "file_extension": ".py",
   "mimetype": "text/x-python",
   "name": "python",
   "nbconvert_exporter": "python",
   "pygments_lexer": "ipython2",
   "version": "2.7.6"
  }
 },
 "nbformat": 4,
 "nbformat_minor": 5
}

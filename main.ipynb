{
 "cells": [
  {
   "cell_type": "markdown",
   "id": "8ecca05573ce9e71",
   "metadata": {},
   "source": [
    "# Automatizarea intocmirii fisei pacientului\n",
    "\n",
    "### Scop\n",
    "\n",
    "Dezvoltarea unui sistem inteligent care să ajute medicii pentru a completa in mod automat fisa pacientului.\n",
    "\n",
    "### Ideea de baza\n",
    "\n",
    "Munca medicilor este plina de provocari. Mai ales cand trebuie sa faca multe task-uri, uneori simultan, precum realizarea si citirea unei ecografii si inregistrarea observatiilor facute. De aceea este nevoie de un sistem inteligent care sa transforme informatia audio inregistrata de catre un medic in format text si sa completeze in mod automat rubricile dedicate din fisa pacientului. Se va pleca de la inregistrari audio, se vor converti in format text si se va compelta automat partea evidentiata cu galben din fisa pacientului (informatiile respective se vor salva intr-un tabel/jason si apoi se vor exporta intr-un document word)\n",
    "\n",
    "---\n",
    "\n",
    "### Descriere Formală (Matematică / Tehnică)\n",
    "\n",
    "Datele de intrare:\n",
    "𝑋 = { fișiere audio_i }\n",
    "- Explicație: X reprezintă mulțimea fișierelor audio înregistrate de medic, fiecare corespunzând unei observații sau consultații.\n",
    "\n",
    "Scopul aplicației:\n",
    "𝐹: 𝑋 → 𝑌\n",
    "- Explicație: F este funcția care transformă fișierele audio în fișe pacient completate.\n",
    "\n",
    "Unde:\n",
    "𝑌 = { fișe pacient completate }\n",
    "- Explicație: Y este mulțimea fișelor completate cu informații structurate extrase din audio.\n",
    "\n",
    "---\n",
    "\n",
    "### Descompunerea Problemei\n",
    "\n",
    "Problema poate fi descompusă în două sub-probleme:\n",
    "##### 1. Speech-to-Text\n",
    "𝑓₁ : audio → text\n",
    "- Explicație: f1 folosește modele ASR (Whisper, DeepSpeech, wav2vec2 etc.) pentru a transforma fișierele audio în text.\n",
    "##### 2. Information Extraction\n",
    "𝑓₂ : text → date structurate\n",
    "- Explicație: f2 extrage rubricile relevante din text pentru completarea automată a fișei pacientului.\n",
    "\n",
    "### Funcția Finală\n",
    "\n",
    "Funcția finală este:\n",
    "𝐹 = 𝑓₂ ∘ 𝑓₁\n",
    "- Explicație: mai întâi transformăm audio-ul în text, apoi extragem datele structurate pentru completarea fișei pacientului.\n",
    "\n"
   ]
  },
  {
   "cell_type": "code",
   "id": "initial_id",
   "metadata": {
    "collapsed": true,
    "ExecuteTime": {
     "end_time": "2025-10-15T18:25:13.197328Z",
     "start_time": "2025-10-15T18:25:13.062880Z"
    }
   },
   "source": [
    "from fastapi import FastAPI, File, UploadFile\n",
    "from fastapi.responses import JSONResponse\n",
    "import shutil\n",
    "import os"
   ],
   "outputs": [],
   "execution_count": 1
  },
  {
   "cell_type": "code",
   "id": "d6ccd61b40e90d18",
   "metadata": {
    "ExecuteTime": {
     "end_time": "2025-10-15T18:25:13.202227Z",
     "start_time": "2025-10-15T18:25:13.200582Z"
    }
   },
   "source": [
    "app = FastAPI()\n",
    "UPLOAD_FOLDER = \"uploads\"\n",
    "os.makedirs(UPLOAD_FOLDER, exist_ok=True)"
   ],
   "outputs": [],
   "execution_count": 2
  },
  {
   "cell_type": "code",
   "id": "165cedcc2a5cf024",
   "metadata": {
    "ExecuteTime": {
     "end_time": "2025-10-15T18:25:13.206353Z",
     "start_time": "2025-10-15T18:25:13.204070Z"
    }
   },
   "source": [
    "@app.post(\"/upload-audio/\")\n",
    "async def upload_audio(file: UploadFile = File(...)):\n",
    "    file_path = os.path.join(UPLOAD_FOLDER, file.filename)\n",
    "    with open(file_path, \"wb\") as buffer:\n",
    "        content = await file.read()\n",
    "        buffer.write(content)\n",
    "    file_size = len(content)\n",
    "    response = 'TestTest'\n",
    "    # response = algoritm_ML_Revolutionar(content)\n",
    "    return JSONResponse({\n",
    "        \"filename\": file.filename,\n",
    "        \"size_bytes\": file_size,\n",
    "        \"message\": response\n",
    "    })"
   ],
   "outputs": [],
   "execution_count": 3
  },
  {
   "metadata": {
    "ExecuteTime": {
     "end_time": "2025-10-15T18:25:13.230297Z",
     "start_time": "2025-10-15T18:25:13.212136Z"
    }
   },
   "cell_type": "code",
   "source": [
    "import nest_asyncio\n",
    "import uvicorn\n",
    "import threading\n",
    "\n",
    "nest_asyncio.apply()\n",
    "\n",
    "def run_server():\n",
    "    uvicorn.run(app, host=\"127.0.0.1\", port=8000)\n",
    "\n",
    "thread = threading.Thread(target=run_server, daemon=True)\n",
    "thread.start()\n",
    "\n",
    "print(\"FastAPI server is running in the background on http://127.0.0.1:8000\")"
   ],
   "id": "8ea5ca0ebf808785",
   "outputs": [
    {
     "name": "stdout",
     "output_type": "stream",
     "text": [
      "FastAPI server is running in the background on http://127.0.0.1:8000\n"
     ]
    },
    {
     "name": "stderr",
     "output_type": "stream",
     "text": [
      "INFO:     Started server process [32721]\n",
      "INFO:     Waiting for application startup.\n",
      "INFO:     Application startup complete.\n",
      "INFO:     Uvicorn running on http://127.0.0.1:8000 (Press CTRL+C to quit)\n"
     ]
    },
    {
     "name": "stdout",
     "output_type": "stream",
     "text": [
      "INFO:     127.0.0.1:52289 - \"POST /upload-audio/ HTTP/1.1\" 200 OK\n",
      "INFO:     127.0.0.1:52289 - \"POST /upload-audio/ HTTP/1.1\" 200 OK\n",
      "INFO:     127.0.0.1:52289 - \"POST /upload-audio/ HTTP/1.1\" 200 OK\n",
      "INFO:     127.0.0.1:52289 - \"POST /upload-audio/ HTTP/1.1\" 200 OK\n",
      "INFO:     127.0.0.1:52315 - \"POST /upload-audio/ HTTP/1.1\" 200 OK\n"
     ]
    }
   ],
   "execution_count": 4
  }
 ],
 "metadata": {
  "kernelspec": {
   "display_name": "Python 3",
   "language": "python",
   "name": "python3"
  },
  "language_info": {
   "codemirror_mode": {
    "name": "ipython",
    "version": 2
   },
   "file_extension": ".py",
   "mimetype": "text/x-python",
   "name": "python",
   "nbconvert_exporter": "python",
   "pygments_lexer": "ipython2",
   "version": "2.7.6"
  }
 },
 "nbformat": 4,
 "nbformat_minor": 5
}
